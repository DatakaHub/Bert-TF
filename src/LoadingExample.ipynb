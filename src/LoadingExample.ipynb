{
 "cells": [
  {
   "cell_type": "code",
   "execution_count": null,
   "id": "a26943b5",
   "metadata": {},
   "outputs": [],
   "source": [
    "from bert_urls import map_name_to_handle\n",
    "bert_model_name = 'bert_en_uncased_L-12_H-768_A-12'\n",
    "tfhub_handle_encoder = map_name_to_handle[bert_model_name]"
   ]
  },
  {
   "cell_type": "markdown",
   "id": "d7e38764",
   "metadata": {},
   "source": [
    "## Download bert information files from TF-HUB"
   ]
  },
  {
   "cell_type": "code",
   "execution_count": null,
   "id": "720cdb9c",
   "metadata": {},
   "outputs": [],
   "source": [
    "import os\n",
    "import requests\n",
    "import tarfile\n",
    "\n",
    "current_path = os.getcwd()\n",
    "print()\n",
    "if not os.path.exists(os.path.join(os.path.dirname(current_path),\"bert_data\")):\n",
    "    os.mkdir(os.path.join(os.path.dirname(current_path),\"bert_data\"))\n",
    "\n",
    "os.chdir(os.path.join(os.path.dirname(current_path),\"bert_data\"))\n",
    "initial_list = os.listdir()\n",
    "os.system(f'wget \"{tfhub_handle_encoder}\"')\n",
    "downloaded_file = list(set(os.listdir()) - set(initial_list))[0]\n",
    "if bert_model_name not in os.listdir():\n",
    "    os.mkdir(bert_model_name)\n",
    "    os.rename(downloaded_file, os.path.join(bert_model_name,f'{bert_model_name}.tar.gz'))\n",
    "    os.chdir(os.path.join(os.path.dirname(current_path),\"bert_data\", bert_model_name))\n",
    "    tar = tarfile.open(f'{bert_model_name}.tar.gz', \"r:gz\")\n",
    "    tar.extractall()\n",
    "    tar.close()\n",
    "    os.remove(f'{bert_model_name}.tar.gz')\n",
    "os.chdir(current_path)"
   ]
  },
  {
   "cell_type": "code",
   "execution_count": null,
   "id": "c3de09d2",
   "metadata": {},
   "outputs": [],
   "source": [
    "import json\n",
    "import re\n",
    "import copy\n",
    "bert_config_path = \"bert_config.json\"\n",
    "\n",
    "with open(bert_config_path, \"r\") as f:\n",
    "    bert_config = json.load(f)\n",
    "    bert_config[\"hidden_size\"]=int(re.findall(\"\\d+\", bert_model_name)[0])\n",
    "    bert_config[\"num_attention_heads\"]=int(re.findall(\"\\d+\", bert_model_name)[1])\n",
    "    bert_config[\"num_hidden_layers\"]=int(re.findall(\"\\d+\", bert_model_name)[2])"
   ]
  },
  {
   "cell_type": "code",
   "execution_count": null,
   "id": "a42f486a",
   "metadata": {},
   "outputs": [],
   "source": [
    "from loader import load_bert_model\n",
    "\n",
    "load_bert_model(\n",
    "    bert_config_path = bert_config_path,\n",
    "    weights_path=os.path.join(os.path.dirname(current_path),\"bert_data\", bert_model_name, \"variables\", \"variables.data-00000-of-00001\"))"
   ]
  },
  {
   "cell_type": "code",
   "execution_count": null,
   "id": "939cb88f",
   "metadata": {},
   "outputs": [],
   "source": []
  }
 ],
 "metadata": {
  "kernelspec": {
   "display_name": "Python 3.9.12 ('ed')",
   "language": "python",
   "name": "python3"
  },
  "language_info": {
   "codemirror_mode": {
    "name": "ipython",
    "version": 3
   },
   "file_extension": ".py",
   "mimetype": "text/x-python",
   "name": "python",
   "nbconvert_exporter": "python",
   "pygments_lexer": "ipython3",
   "version": "3.9.12"
  },
  "vscode": {
   "interpreter": {
    "hash": "7ac0583b91fd1b51ced2a3dda3c337977604f904839692eac9c1f64a848f4802"
   }
  }
 },
 "nbformat": 4,
 "nbformat_minor": 5
}
