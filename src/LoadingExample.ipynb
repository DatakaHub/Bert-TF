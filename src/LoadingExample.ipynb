{
 "cells": [
  {
   "cell_type": "markdown",
   "id": "8e6105eb",
   "metadata": {},
   "source": [
    "# Bert Keras\n",
    "\n",
    "In the current available version from tensorflow-hub, one can not easily access intermediate layers which may be necessary for research purposes. Furthermore, current code for Bert is not well supported for Keras (due, in part, to custom layers not well defined). In this project, we provide a convertor to define bert encoders from tensorflow hub as tf.keras.Model with every intermediate layer explicitly accessible.\n",
    "\n",
    "Note: we use multiheadAttention layers that are introduced in tensorflow 2.10 making this version of tensorflow a reuqirement."
   ]
  },
  {
   "cell_type": "code",
   "execution_count": 1,
   "id": "a26943b5",
   "metadata": {},
   "outputs": [],
   "source": [
    "from bert_urls import map_name_to_handle\n",
    "\n",
    "bert_model_name = \"bert_en_uncased_L-12_H-768_A-12\"\n",
    "save_path = \"\" # enter a path if you want to save the model as .h5 file\n",
    "tfhub_handle_encoder = map_name_to_handle[bert_model_name]"
   ]
  },
  {
   "cell_type": "markdown",
   "id": "d7e38764",
   "metadata": {},
   "source": [
    "## Download bert information files from TF-HUB\n",
    "\n",
    "This part simply downloads the bert model from tensorflow hub using `wget`."
   ]
  },
  {
   "cell_type": "code",
   "execution_count": 2,
   "id": "720cdb9c",
   "metadata": {},
   "outputs": [
    {
     "name": "stdout",
     "output_type": "stream",
     "text": [
      "\n"
     ]
    }
   ],
   "source": [
    "import os\n",
    "import tarfile\n",
    "\n",
    "current_path = os.getcwd()\n",
    "print()\n",
    "if not os.path.exists(os.path.join(os.path.dirname(current_path), \"bert_data\")):\n",
    "    os.mkdir(os.path.join(os.path.dirname(current_path), \"bert_data\"))\n",
    "\n",
    "os.chdir(os.path.join(os.path.dirname(current_path), \"bert_data\"))\n",
    "initial_list = os.listdir()\n",
    "if bert_model_name not in os.listdir():\n",
    "    os.system(f'wget \"{tfhub_handle_encoder}\"')\n",
    "    downloaded_file = list(set(os.listdir()) - set(initial_list))[0]\n",
    "    os.mkdir(bert_model_name)\n",
    "    os.rename(\n",
    "        downloaded_file, os.path.join(bert_model_name, f\"{bert_model_name}.tar.gz\")\n",
    "    )\n",
    "    os.chdir(os.path.join(os.path.dirname(current_path), \"bert_data\", bert_model_name))\n",
    "    tar = tarfile.open(f\"{bert_model_name}.tar.gz\", \"r:gz\")\n",
    "    tar.extractall()\n",
    "    tar.close()\n",
    "    os.remove(f\"{bert_model_name}.tar.gz\")\n",
    "os.chdir(current_path)"
   ]
  },
  {
   "cell_type": "code",
   "execution_count": 3,
   "id": "c3de09d2",
   "metadata": {},
   "outputs": [
    {
     "name": "stdout",
     "output_type": "stream",
     "text": [
      "Metal device set to: Apple M1\n",
      "\n",
      "systemMemory: 8.00 GB\n",
      "maxCacheSize: 2.67 GB\n",
      "\n"
     ]
    },
    {
     "name": "stderr",
     "output_type": "stream",
     "text": [
      "2022-10-09 21:15:33.571849: I tensorflow/core/common_runtime/pluggable_device/pluggable_device_factory.cc:306] Could not identify NUMA node of platform GPU ID 0, defaulting to 0. Your kernel may not have been built with NUMA support.\n",
      "2022-10-09 21:15:33.572107: I tensorflow/core/common_runtime/pluggable_device/pluggable_device_factory.cc:272] Created TensorFlow device (/job:localhost/replica:0/task:0/device:GPU:0 with 0 MB memory) -> physical PluggableDevice (device: 0, name: METAL, pci bus id: <undefined>)\n",
      "/Users/edouard/miniforge3/envs/tf2.10/lib/python3.9/site-packages/keras/initializers/initializers_v2.py:120: UserWarning: The initializer TruncatedNormal is unseeded and being called multiple times, which will return identical values  each time (even if the initializer is unseeded). Please update your code to provide a seed to the initializer, or avoid using the same initalizer instance more than once.\n",
      "  warnings.warn(\n"
     ]
    }
   ],
   "source": [
    "from loader import load_bert_model\n",
    "\n",
    "bert_model = load_bert_model(\n",
    "    weights_path=os.path.join(\n",
    "        os.path.dirname(current_path),\n",
    "        \"bert_data\",\n",
    "        bert_model_name,\n",
    "    ),\n",
    "    save_path=save_path,\n",
    ")"
   ]
  }
 ],
 "metadata": {
  "kernelspec": {
   "display_name": "Python 3.9.13 ('tf2.10')",
   "language": "python",
   "name": "python3"
  },
  "language_info": {
   "codemirror_mode": {
    "name": "ipython",
    "version": 3
   },
   "file_extension": ".py",
   "mimetype": "text/x-python",
   "name": "python",
   "nbconvert_exporter": "python",
   "pygments_lexer": "ipython3",
   "version": "3.9.13"
  },
  "vscode": {
   "interpreter": {
    "hash": "84ef33498e3860053f38f6819d1a881b85e6633e88ba4836a8356e8dc31693e0"
   }
  }
 },
 "nbformat": 4,
 "nbformat_minor": 5
}
